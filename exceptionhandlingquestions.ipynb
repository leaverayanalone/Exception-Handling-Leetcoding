{
 "cells": [
  {
   "cell_type": "markdown",
   "id": "2fd413b4",
   "metadata": {},
   "source": [
    "# Module: Exception Handling Assignments\n",
    "## Lesson: Exception Handling with try, except, and finally\n",
    "### Assignment 1: Handling Division by Zero\n",
    "\n",
    "Write a function that takes two integers as input and returns their division. Use try, except, and finally blocks to handle division by zero and print an appropriate message.\n",
    "\n",
    "### Assignment 2: File Reading with Exception Handling\n",
    "\n",
    "Write a function that reads the contents of a file named `data.txt`. Use try, except, and finally blocks to handle file not found errors and ensure the file is properly closed.\n",
    "\n",
    "### Assignment 3: Handling Multiple Exceptions\n",
    "\n",
    "Write a function that takes a list of integers and returns their sum. Use try, except, and finally blocks to handle TypeError if a non-integer value is encountered and print an appropriate message.\n",
    "\n",
    "### Assignment 4: Exception Handling in User Input\n",
    "\n",
    "Write a function that prompts the user to enter an integer. Use try, except, and finally blocks to handle ValueError if the user enters a non-integer value and print an appropriate message.\n",
    "\n",
    "### Assignment 5: Exception Handling in Dictionary Access\n",
    "\n",
    "Write a function that takes a dictionary and a key as input and returns the value associated with the key. Use try, except, and finally blocks to handle KeyError if the key is not found in the dictionary and print an appropriate message.\n",
    "\n",
    "### Assignment 6: Nested Exception Handling\n",
    "\n",
    "Write a function that performs nested exception handling. It should first attempt to convert a string to an integer, and then attempt to divide by that integer. Use nested try, except, and finally blocks to handle ValueError and ZeroDivisionError and print appropriate messages.\n",
    "\n",
    "### Assignment 7: Exception Handling in List Operations\n",
    "\n",
    "Write a function that takes a list and an index as input and returns the element at the given index. Use try, except, and finally blocks to handle IndexError if the index is out of range and print an appropriate message.\n",
    "\n",
    "### Assignment 8: Exception Handling in Network Operations\n",
    "\n",
    "Write a function that attempts to open a URL and read its contents. Use try, except, and finally blocks to handle network-related errors and print an appropriate message.\n",
    "\n",
    "### Assignment 9: Exception Handling in JSON Parsing\n",
    "\n",
    "Write a function that attempts to parse a JSON string. Use try, except, and finally blocks to handle JSONDecodeError if the string is not a valid JSON and print an appropriate message.\n",
    "\n",
    "### Assignment 10: Custom Exception Handling\n",
    "\n",
    "Define a custom exception named `NegativeNumberError`. Write a function that raises this exception if a negative number is encountered in a list. Use try, except, and finally blocks to handle the custom exception and print an appropriate message.\n",
    "\n",
    "### Assignment 11: Exception Handling in Function Calls\n",
    "\n",
    "Write a function that calls another function which may raise an exception. Use try, except, and finally blocks to handle the exception and print an appropriate message.\n",
    "\n",
    "### Assignment 12: Exception Handling in Class Methods\n",
    "\n",
    "Define a class with a method that performs a division operation. Use try, except, and finally blocks within the method to handle division by zero and print an appropriate message.\n",
    "\n",
    "### Assignment 13: Exception Handling in Data Conversion\n",
    "\n",
    "Write a function that takes a list of strings and converts them to integers. Use try, except, and finally blocks to handle ValueError if a string cannot be converted and print an appropriate message.\n",
    "\n",
    "### Assignment 14: Exception Handling in List Comprehensions\n",
    "\n",
    "Write a function that uses a list comprehension to convert a list of strings to integers. Use try, except, and finally blocks within the list comprehension to handle ValueError and print an appropriate message.\n",
    "\n",
    "### Assignment 15: Exception Handling in File Writing\n",
    "\n",
    "Write a function that attempts to write a list of strings to a file. Use try, except, and finally blocks to handle IOError and ensure the file is properly closed."
   ]
  },
  {
   "cell_type": "code",
   "execution_count": 2,
   "id": "be001807",
   "metadata": {},
   "outputs": [
    {
     "name": "stdout",
     "output_type": "stream",
     "text": [
      "Error: Division by zero is not allowed.\n"
     ]
    }
   ],
   "source": [
    "# Assignment 1\n",
    "\n",
    "try:\n",
    "    num1 = input(\"Enter the first number: \")\n",
    "    num2 = input(\"Enter the second number: \")\n",
    "\n",
    "    result = float(num1) / float(num2)\n",
    "\n",
    "except ValueError:\n",
    "    print(\"Error: Invalid input. Please enter numeric values.\")\n",
    "except ZeroDivisionError:\n",
    "    print(\"Error: Division by zero is not allowed.\")\n",
    "else:\n",
    "    print(f\"The result of {num1} divided by {num2} is: {result}\")\n"
   ]
  },
  {
   "cell_type": "code",
   "execution_count": 3,
   "id": "35303601",
   "metadata": {},
   "outputs": [
    {
     "name": "stdout",
     "output_type": "stream",
     "text": [
      "Error: [Errno 2] No such file or directory: 'example.txt'\n"
     ]
    }
   ],
   "source": [
    "# Assignment 2\n",
    "\n",
    "try:\n",
    "    file = open('example.txt','r')\n",
    "    content = file.read()\n",
    "    print(content)\n",
    "\n",
    "except FileNotFoundError as fe:\n",
    "    print(f\"Error: {fe}\")\n",
    "except Exception as e:\n",
    "    print(f\"An unexpected error occurred: {e}\")\n",
    "\n",
    "finally:\n",
    "    if 'file' in locals() and not file.closed():\n",
    "        file.close()\n",
    "    "
   ]
  },
  {
   "cell_type": "code",
   "execution_count": 12,
   "id": "6db0ea0c",
   "metadata": {},
   "outputs": [
    {
     "name": "stdout",
     "output_type": "stream",
     "text": [
      "The sum of the list is: 60.0\n"
     ]
    }
   ],
   "source": [
    "# Assignment 3\n",
    "\n",
    "try:\n",
    "    lst = input(\"Enter a list of numbers separated by spaces: \")\n",
    "    numbers = [float(x) for x in lst.split()]   # convert each item to float\n",
    "    result = sum(numbers)\n",
    "\n",
    "except ValueError:\n",
    "    print(\"Error: All elements in the list must be numbers.\")\n",
    "\n",
    "else:\n",
    "    print(f\"The sum of the list is: {result}\")"
   ]
  },
  {
   "cell_type": "code",
   "execution_count": null,
   "id": "b8c81401",
   "metadata": {},
   "outputs": [
    {
     "name": "stdout",
     "output_type": "stream",
     "text": [
      "The 1 is an integer.\n"
     ]
    }
   ],
   "source": [
    "# Assignment 4\n",
    "\n",
    "try:\n",
    "    num = int(input(\"Enter a number: \"))\n",
    "except ValueError:\n",
    "    print(\"Error: Invalid input. Please enter an integer.\")\n",
    "else:\n",
    "    print(f\"{num} is an integer.\")"
   ]
  },
  {
   "cell_type": "code",
   "execution_count": 16,
   "id": "13955558",
   "metadata": {},
   "outputs": [
    {
     "name": "stdout",
     "output_type": "stream",
     "text": [
      "Error: Key not found in the dictionary.\n"
     ]
    }
   ],
   "source": [
    "dict = {'a': 1, 'b': 2, 'c': 3}\n",
    "\n",
    "try:\n",
    "    key = input(\"Enter a key to access the dictionary: \")\n",
    "    value = dict[key]\n",
    "except KeyError:\n",
    "    print(\"Error: Key not found in the dictionary.\")\n",
    "else:\n",
    "    print(f\"The value for '{key}' is: {dict[key]}\")"
   ]
  },
  {
   "cell_type": "code",
   "execution_count": 17,
   "id": "0b3c85c4",
   "metadata": {},
   "outputs": [
    {
     "name": "stdout",
     "output_type": "stream",
     "text": [
      "10 divided by 1 is 10.0.\n"
     ]
    }
   ],
   "source": [
    "num = input('Enter a number: ')\n",
    "try:\n",
    "    result = 10 / int(num)\n",
    "except ValueError:\n",
    "    print(\"Error: Invalid input. Please enter a numeric value.\")\n",
    "except ZeroDivisionError:\n",
    "    print(\"Error: Division by zero is not allowed.\")\n",
    "else:\n",
    "    print(f\"10 divided by {num} is {result}.\")"
   ]
  },
  {
   "cell_type": "code",
   "execution_count": 18,
   "id": "cb99043a",
   "metadata": {},
   "outputs": [
    {
     "name": "stdout",
     "output_type": "stream",
     "text": [
      "Webpage content successfully retrieved.\n",
      "<!doctype html>\n",
      "<html>\n",
      "<head>\n",
      "    <title>Example Domain</title>\n",
      "\n",
      "    <meta charset=\"utf-8\" />\n",
      "    <m\n"
     ]
    }
   ],
   "source": [
    "# Assignment 8\n",
    "import urllib.request\n",
    "import urllib.error\n",
    "\n",
    "try:\n",
    "    response = urllib.request.urlopen('http://example.com')\n",
    "    content = response.read().decode('utf-8')\n",
    "\n",
    "except urllib.error.HTTPError as he:\n",
    "    print(f\"HTTP Error: {he.code} - {he.reason}\")\n",
    "except urllib.error.URLError as ue:\n",
    "    print(f\"URL Error: {ue.reason}\")\n",
    "except Exception as e:\n",
    "    print(f\"An unexpected error occurred: {e}\")\n",
    "\n",
    "else:\n",
    "    print(\"Webpage content successfully retrieved.\")\n",
    "    print(content[:100])"
   ]
  },
  {
   "cell_type": "code",
   "execution_count": null,
   "id": "ffcfb62f",
   "metadata": {},
   "outputs": [
    {
     "name": "stdout",
     "output_type": "stream",
     "text": [
      "JSON parsed successfully.\n",
      "Execution of parse_json is complete.\n",
      "{'name': 'John', 'age': 30}\n",
      "Could not parse JSON: Expecting ',' delimiter\n",
      "Execution of parse_json is complete.\n",
      "None\n"
     ]
    }
   ],
   "source": [
    "# Assignment 9\n",
    "\n",
    "import json\n",
    "\n",
    "def parse_json(json_string):\n",
    "\n",
    "    try:\n",
    "        data = json.loads(json_string)\n",
    "    \n",
    "    except json.JSONDecodeError as jde:\n",
    "        print(f\"Could not parse JSON: {jde.msg}\")\n",
    "    else:\n",
    "        print(\"JSON parsed successfully.\")\n",
    "        return data\n",
    "    finally:\n",
    "        print(\"Execution of parse_json is complete.\")\n",
    "\n",
    "# Example usage\n",
    "json_string1 = '{\"name\": \"John\", \"age\": 30}'\n",
    "json_string2 = '{\"name\": \"John\", \"age\": 30'  # Missing closing brace\n",
    "\n",
    "print(parse_json(json_string1))\n",
    "print(parse_json(json_string2))"
   ]
  },
  {
   "cell_type": "code",
   "execution_count": 22,
   "id": "448a7469",
   "metadata": {},
   "outputs": [
    {
     "name": "stdout",
     "output_type": "stream",
     "text": [
      "All numbers are positive.\n",
      "Execution of check_positive is complete.\n",
      "Error as negative number found.\n",
      "Execution of check_positive is complete.\n"
     ]
    }
   ],
   "source": [
    "# Assignment 10\n",
    "\n",
    "class NegetiveNumberError(Exception):\n",
    "    pass\n",
    "\n",
    "def check_positive(numbers):\n",
    "    try:\n",
    "        for num in numbers:\n",
    "            if num < 0:\n",
    "                raise NegetiveNumberError(f\"Negative number found: {num}\")\n",
    "        print(\"All numbers are positive.\")\n",
    "    \n",
    "    except NegetiveNumberError as nne:\n",
    "        print(\"Error as negative number found.\")\n",
    "\n",
    "    finally:\n",
    "        print(\"Execution of check_positive is complete.\")\n",
    "\n",
    "# Example usage\n",
    "numbers1 = [1, 2, 3, 4, 5]\n",
    "numbers2 = [1, -2, 3, 4, 5]\n",
    "check_positive(numbers1)\n",
    "check_positive(numbers2)\n",
    "    \n"
   ]
  },
  {
   "cell_type": "code",
   "execution_count": null,
   "id": "2c6c4e90",
   "metadata": {},
   "outputs": [],
   "source": [
    "# Assignment 11\n",
    "\n",
    "def risky_division(a, b):\n",
    "    \"\"\"Performs division and may raise ZeroDivisionError.\"\"\"\n",
    "    return a / b\n",
    "\n",
    "def safe_division(a, b):\n",
    "    try:\n",
    "        result = risky_division(a, b)   # call function that may raise\n",
    "    except ZeroDivisionError:\n",
    "        print(\"Error: Division by zero is not allowed.\")\n",
    "    except Exception as e:\n",
    "        print(f\"Unexpected error: {e}\")\n",
    "    else:\n",
    "        print(f\"Division successful! {a} / {b} = {result}\")\n",
    "        return result\n",
    "    finally:\n",
    "        print(\"Division attempt finished.\")\n",
    "\n",
    "# Example usage:\n",
    "safe_division(10, 2)   # ✅ Works\n",
    "safe_division(5, 0)    # ❌ Triggers exception\n"
   ]
  },
  {
   "cell_type": "code",
   "execution_count": 24,
   "id": "864edcf1",
   "metadata": {},
   "outputs": [
    {
     "name": "stdout",
     "output_type": "stream",
     "text": [
      "The result of 10 divided by 2 is: 5.0\n",
      "Execution of divide method is complete.\n",
      "Error: Division by zero is not allowed.\n",
      "Execution of divide method is complete.\n"
     ]
    }
   ],
   "source": [
    "# Assignment 12\n",
    "\n",
    "class Divider:\n",
    "    def __init__(self, a, b):\n",
    "        self.a = a\n",
    "        self.b = b\n",
    "    \n",
    "    def divide(self):\n",
    "        try:\n",
    "            result = self.a / self.b\n",
    "        except ZeroDivisionError:\n",
    "            print(\"Error: Division by zero is not allowed.\")\n",
    "        else:\n",
    "            print(f\"The result of {self.a} divided by {self.b} is: {result}\")\n",
    "            return result\n",
    "        finally:\n",
    "            print(\"Execution of divide method is complete.\")\n",
    "\n",
    "# Example usage:\n",
    "divider1 = Divider(10, 2)\n",
    "divider1.divide()   # ✅ Works fine\n",
    "\n",
    "divider2 = Divider(5, 0)\n",
    "divider2.divide()   # ❌ Handles division by zero\n",
    "\n"
   ]
  },
  {
   "cell_type": "code",
   "execution_count": 26,
   "id": "53532149",
   "metadata": {},
   "outputs": [
    {
     "name": "stdout",
     "output_type": "stream",
     "text": [
      "Converted '10' to integer: 10\n",
      "Converted '100' to integer: 100\n"
     ]
    },
    {
     "data": {
      "text/plain": [
       "100"
      ]
     },
     "execution_count": 26,
     "metadata": {},
     "output_type": "execute_result"
    }
   ],
   "source": [
    "# Assignment 13\n",
    "\n",
    "def convert_to_int(s):\n",
    "    int_lst = []\n",
    "    for char in  s.split():\n",
    "        try:\n",
    "            num = int(char)\n",
    "            int_lst.append(num)\n",
    "        except ValueError:\n",
    "            print(f\"Error: '{char}' is not a valid integer.\")\n",
    "        else:\n",
    "            print(f\"Converted '{char}' to integer: {num}\")\n",
    "            return num\n",
    "        \n",
    "convert_to_int(\"10 20 thirty 40\")\n",
    "convert_to_int(\"100 two 300\")\n",
    "    "
   ]
  },
  {
   "cell_type": "code",
   "execution_count": null,
   "id": "deb8f126",
   "metadata": {},
   "outputs": [
    {
     "name": "stdout",
     "output_type": "stream",
     "text": [
      "Error: 'twenty' is not a valid integer.\n",
      "[10]\n"
     ]
    }
   ],
   "source": [
    "# Assignment 14\n",
    "\n",
    "string = ['10', 'twenty']\n",
    "\n",
    "def convert_to_int_list(str_list):\n",
    "    int_list = []\n",
    "    for item in str_list:\n",
    "        try:\n",
    "            num = int(item)\n",
    "            int_list.append(num)\n",
    "        except ValueError:\n",
    "            print(f\"Error: '{item}' is not a valid integer.\")\n",
    "    return int_list\n",
    "\n",
    "print(convert_to_int_list(string))"
   ]
  },
  {
   "cell_type": "code",
   "execution_count": 31,
   "id": "338d20e9",
   "metadata": {},
   "outputs": [
    {
     "name": "stdout",
     "output_type": "stream",
     "text": [
      "Successfully wrote 3 lines to 'output.txt'.\n",
      "File closed successfully.\n"
     ]
    }
   ],
   "source": [
    "# Assignment 15\n",
    "\n",
    "def write_to_file(filename, lines):\n",
    "    try:\n",
    "        f = open(filename, \"w\")   # open file for writing\n",
    "        for line in lines:\n",
    "            f.write(line + \"\\n\")\n",
    "    except IOError as e:\n",
    "        print(f\"IOError: {e}\")\n",
    "    else:\n",
    "        print(f\"Successfully wrote {len(lines)} lines to '{filename}'.\")\n",
    "    finally:\n",
    "        try:\n",
    "            f.close()\n",
    "            print(\"File closed successfully.\")\n",
    "        except NameError:\n",
    "            # f was never created if open() failed\n",
    "            print(\"File was never opened, nothing to close.\")\n",
    "\n",
    "# Example usage:\n",
    "lines = [\"First line\", \"Second line\", \"Third line\"]\n",
    "write_to_file(\"output.txt\", lines)\n"
   ]
  }
 ],
 "metadata": {
  "kernelspec": {
   "display_name": "venv",
   "language": "python",
   "name": "python3"
  },
  "language_info": {
   "codemirror_mode": {
    "name": "ipython",
    "version": 3
   },
   "file_extension": ".py",
   "mimetype": "text/x-python",
   "name": "python",
   "nbconvert_exporter": "python",
   "pygments_lexer": "ipython3",
   "version": "3.12.0"
  }
 },
 "nbformat": 4,
 "nbformat_minor": 5
}
